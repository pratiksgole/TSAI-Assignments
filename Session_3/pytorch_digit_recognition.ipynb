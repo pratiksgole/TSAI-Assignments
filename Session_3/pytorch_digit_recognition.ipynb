{
  "nbformat": 4,
  "nbformat_minor": 0,
  "metadata": {
    "colab": {
      "name": "pychorch.ipynb",
      "provenance": [],
      "collapsed_sections": []
    },
    "kernelspec": {
      "name": "python3",
      "display_name": "Python 3"
    },
    "language_info": {
      "name": "python"
    },
    "widgets": {
      "application/vnd.jupyter.widget-state+json": {
        "ef6d6c86f25e4e2d9425181054c851bb": {
          "model_module": "@jupyter-widgets/controls",
          "model_name": "HBoxModel",
          "model_module_version": "1.5.0",
          "state": {
            "_view_name": "HBoxView",
            "_dom_classes": [],
            "_model_name": "HBoxModel",
            "_view_module": "@jupyter-widgets/controls",
            "_model_module_version": "1.5.0",
            "_view_count": null,
            "_view_module_version": "1.5.0",
            "box_style": "",
            "layout": "IPY_MODEL_86c77be7cd6e43d7b88b0709c855eaca",
            "_model_module": "@jupyter-widgets/controls",
            "children": [
              "IPY_MODEL_ff127c3219f94f788cf5c250689d9c42",
              "IPY_MODEL_754ada1b2f8942d2ab90fd24851435fe",
              "IPY_MODEL_6c677922b19f4c7eae95f4f800dddcc3"
            ]
          }
        },
        "86c77be7cd6e43d7b88b0709c855eaca": {
          "model_module": "@jupyter-widgets/base",
          "model_name": "LayoutModel",
          "model_module_version": "1.2.0",
          "state": {
            "_view_name": "LayoutView",
            "grid_template_rows": null,
            "right": null,
            "justify_content": null,
            "_view_module": "@jupyter-widgets/base",
            "overflow": null,
            "_model_module_version": "1.2.0",
            "_view_count": null,
            "flex_flow": null,
            "width": null,
            "min_width": null,
            "border": null,
            "align_items": null,
            "bottom": null,
            "_model_module": "@jupyter-widgets/base",
            "top": null,
            "grid_column": null,
            "overflow_y": null,
            "overflow_x": null,
            "grid_auto_flow": null,
            "grid_area": null,
            "grid_template_columns": null,
            "flex": null,
            "_model_name": "LayoutModel",
            "justify_items": null,
            "grid_row": null,
            "max_height": null,
            "align_content": null,
            "visibility": null,
            "align_self": null,
            "height": null,
            "min_height": null,
            "padding": null,
            "grid_auto_rows": null,
            "grid_gap": null,
            "max_width": null,
            "order": null,
            "_view_module_version": "1.2.0",
            "grid_template_areas": null,
            "object_position": null,
            "object_fit": null,
            "grid_auto_columns": null,
            "margin": null,
            "display": null,
            "left": null
          }
        },
        "ff127c3219f94f788cf5c250689d9c42": {
          "model_module": "@jupyter-widgets/controls",
          "model_name": "HTMLModel",
          "model_module_version": "1.5.0",
          "state": {
            "_view_name": "HTMLView",
            "style": "IPY_MODEL_6b627b232c8743b4a7548463aa549884",
            "_dom_classes": [],
            "description": "",
            "_model_name": "HTMLModel",
            "placeholder": "​",
            "_view_module": "@jupyter-widgets/controls",
            "_model_module_version": "1.5.0",
            "value": "",
            "_view_count": null,
            "_view_module_version": "1.5.0",
            "description_tooltip": null,
            "_model_module": "@jupyter-widgets/controls",
            "layout": "IPY_MODEL_71bd64f323d24acb9b25fa03b84fe079"
          }
        },
        "754ada1b2f8942d2ab90fd24851435fe": {
          "model_module": "@jupyter-widgets/controls",
          "model_name": "FloatProgressModel",
          "model_module_version": "1.5.0",
          "state": {
            "_view_name": "ProgressView",
            "style": "IPY_MODEL_b750b476a97042b1becd045a25901244",
            "_dom_classes": [],
            "description": "",
            "_model_name": "FloatProgressModel",
            "bar_style": "success",
            "max": 9912422,
            "_view_module": "@jupyter-widgets/controls",
            "_model_module_version": "1.5.0",
            "value": 9912422,
            "_view_count": null,
            "_view_module_version": "1.5.0",
            "orientation": "horizontal",
            "min": 0,
            "description_tooltip": null,
            "_model_module": "@jupyter-widgets/controls",
            "layout": "IPY_MODEL_25f35af04aa54b01b34fe66d9e341fb6"
          }
        },
        "6c677922b19f4c7eae95f4f800dddcc3": {
          "model_module": "@jupyter-widgets/controls",
          "model_name": "HTMLModel",
          "model_module_version": "1.5.0",
          "state": {
            "_view_name": "HTMLView",
            "style": "IPY_MODEL_388928b61f3341ac9d79a18298d231cc",
            "_dom_classes": [],
            "description": "",
            "_model_name": "HTMLModel",
            "placeholder": "​",
            "_view_module": "@jupyter-widgets/controls",
            "_model_module_version": "1.5.0",
            "value": " 9913344/? [00:00&lt;00:00, 45445183.80it/s]",
            "_view_count": null,
            "_view_module_version": "1.5.0",
            "description_tooltip": null,
            "_model_module": "@jupyter-widgets/controls",
            "layout": "IPY_MODEL_0c401057d23249ef89e7ea479e1457f3"
          }
        },
        "6b627b232c8743b4a7548463aa549884": {
          "model_module": "@jupyter-widgets/controls",
          "model_name": "DescriptionStyleModel",
          "model_module_version": "1.5.0",
          "state": {
            "_view_name": "StyleView",
            "_model_name": "DescriptionStyleModel",
            "description_width": "",
            "_view_module": "@jupyter-widgets/base",
            "_model_module_version": "1.5.0",
            "_view_count": null,
            "_view_module_version": "1.2.0",
            "_model_module": "@jupyter-widgets/controls"
          }
        },
        "71bd64f323d24acb9b25fa03b84fe079": {
          "model_module": "@jupyter-widgets/base",
          "model_name": "LayoutModel",
          "model_module_version": "1.2.0",
          "state": {
            "_view_name": "LayoutView",
            "grid_template_rows": null,
            "right": null,
            "justify_content": null,
            "_view_module": "@jupyter-widgets/base",
            "overflow": null,
            "_model_module_version": "1.2.0",
            "_view_count": null,
            "flex_flow": null,
            "width": null,
            "min_width": null,
            "border": null,
            "align_items": null,
            "bottom": null,
            "_model_module": "@jupyter-widgets/base",
            "top": null,
            "grid_column": null,
            "overflow_y": null,
            "overflow_x": null,
            "grid_auto_flow": null,
            "grid_area": null,
            "grid_template_columns": null,
            "flex": null,
            "_model_name": "LayoutModel",
            "justify_items": null,
            "grid_row": null,
            "max_height": null,
            "align_content": null,
            "visibility": null,
            "align_self": null,
            "height": null,
            "min_height": null,
            "padding": null,
            "grid_auto_rows": null,
            "grid_gap": null,
            "max_width": null,
            "order": null,
            "_view_module_version": "1.2.0",
            "grid_template_areas": null,
            "object_position": null,
            "object_fit": null,
            "grid_auto_columns": null,
            "margin": null,
            "display": null,
            "left": null
          }
        },
        "b750b476a97042b1becd045a25901244": {
          "model_module": "@jupyter-widgets/controls",
          "model_name": "ProgressStyleModel",
          "model_module_version": "1.5.0",
          "state": {
            "_view_name": "StyleView",
            "_model_name": "ProgressStyleModel",
            "description_width": "",
            "_view_module": "@jupyter-widgets/base",
            "_model_module_version": "1.5.0",
            "_view_count": null,
            "_view_module_version": "1.2.0",
            "bar_color": null,
            "_model_module": "@jupyter-widgets/controls"
          }
        },
        "25f35af04aa54b01b34fe66d9e341fb6": {
          "model_module": "@jupyter-widgets/base",
          "model_name": "LayoutModel",
          "model_module_version": "1.2.0",
          "state": {
            "_view_name": "LayoutView",
            "grid_template_rows": null,
            "right": null,
            "justify_content": null,
            "_view_module": "@jupyter-widgets/base",
            "overflow": null,
            "_model_module_version": "1.2.0",
            "_view_count": null,
            "flex_flow": null,
            "width": null,
            "min_width": null,
            "border": null,
            "align_items": null,
            "bottom": null,
            "_model_module": "@jupyter-widgets/base",
            "top": null,
            "grid_column": null,
            "overflow_y": null,
            "overflow_x": null,
            "grid_auto_flow": null,
            "grid_area": null,
            "grid_template_columns": null,
            "flex": null,
            "_model_name": "LayoutModel",
            "justify_items": null,
            "grid_row": null,
            "max_height": null,
            "align_content": null,
            "visibility": null,
            "align_self": null,
            "height": null,
            "min_height": null,
            "padding": null,
            "grid_auto_rows": null,
            "grid_gap": null,
            "max_width": null,
            "order": null,
            "_view_module_version": "1.2.0",
            "grid_template_areas": null,
            "object_position": null,
            "object_fit": null,
            "grid_auto_columns": null,
            "margin": null,
            "display": null,
            "left": null
          }
        },
        "388928b61f3341ac9d79a18298d231cc": {
          "model_module": "@jupyter-widgets/controls",
          "model_name": "DescriptionStyleModel",
          "model_module_version": "1.5.0",
          "state": {
            "_view_name": "StyleView",
            "_model_name": "DescriptionStyleModel",
            "description_width": "",
            "_view_module": "@jupyter-widgets/base",
            "_model_module_version": "1.5.0",
            "_view_count": null,
            "_view_module_version": "1.2.0",
            "_model_module": "@jupyter-widgets/controls"
          }
        },
        "0c401057d23249ef89e7ea479e1457f3": {
          "model_module": "@jupyter-widgets/base",
          "model_name": "LayoutModel",
          "model_module_version": "1.2.0",
          "state": {
            "_view_name": "LayoutView",
            "grid_template_rows": null,
            "right": null,
            "justify_content": null,
            "_view_module": "@jupyter-widgets/base",
            "overflow": null,
            "_model_module_version": "1.2.0",
            "_view_count": null,
            "flex_flow": null,
            "width": null,
            "min_width": null,
            "border": null,
            "align_items": null,
            "bottom": null,
            "_model_module": "@jupyter-widgets/base",
            "top": null,
            "grid_column": null,
            "overflow_y": null,
            "overflow_x": null,
            "grid_auto_flow": null,
            "grid_area": null,
            "grid_template_columns": null,
            "flex": null,
            "_model_name": "LayoutModel",
            "justify_items": null,
            "grid_row": null,
            "max_height": null,
            "align_content": null,
            "visibility": null,
            "align_self": null,
            "height": null,
            "min_height": null,
            "padding": null,
            "grid_auto_rows": null,
            "grid_gap": null,
            "max_width": null,
            "order": null,
            "_view_module_version": "1.2.0",
            "grid_template_areas": null,
            "object_position": null,
            "object_fit": null,
            "grid_auto_columns": null,
            "margin": null,
            "display": null,
            "left": null
          }
        },
        "1e12ad49fa7e4f08b28652f39c508983": {
          "model_module": "@jupyter-widgets/controls",
          "model_name": "HBoxModel",
          "model_module_version": "1.5.0",
          "state": {
            "_view_name": "HBoxView",
            "_dom_classes": [],
            "_model_name": "HBoxModel",
            "_view_module": "@jupyter-widgets/controls",
            "_model_module_version": "1.5.0",
            "_view_count": null,
            "_view_module_version": "1.5.0",
            "box_style": "",
            "layout": "IPY_MODEL_9bab0875ec814c80b91da5448e48e2c8",
            "_model_module": "@jupyter-widgets/controls",
            "children": [
              "IPY_MODEL_fb113d656761458a94465d7234a7003d",
              "IPY_MODEL_ef132628397b4e8fbf61bf1dd0c1c51f",
              "IPY_MODEL_0e0e004f8b9b4b3ba40f270c4c2890b6"
            ]
          }
        },
        "9bab0875ec814c80b91da5448e48e2c8": {
          "model_module": "@jupyter-widgets/base",
          "model_name": "LayoutModel",
          "model_module_version": "1.2.0",
          "state": {
            "_view_name": "LayoutView",
            "grid_template_rows": null,
            "right": null,
            "justify_content": null,
            "_view_module": "@jupyter-widgets/base",
            "overflow": null,
            "_model_module_version": "1.2.0",
            "_view_count": null,
            "flex_flow": null,
            "width": null,
            "min_width": null,
            "border": null,
            "align_items": null,
            "bottom": null,
            "_model_module": "@jupyter-widgets/base",
            "top": null,
            "grid_column": null,
            "overflow_y": null,
            "overflow_x": null,
            "grid_auto_flow": null,
            "grid_area": null,
            "grid_template_columns": null,
            "flex": null,
            "_model_name": "LayoutModel",
            "justify_items": null,
            "grid_row": null,
            "max_height": null,
            "align_content": null,
            "visibility": null,
            "align_self": null,
            "height": null,
            "min_height": null,
            "padding": null,
            "grid_auto_rows": null,
            "grid_gap": null,
            "max_width": null,
            "order": null,
            "_view_module_version": "1.2.0",
            "grid_template_areas": null,
            "object_position": null,
            "object_fit": null,
            "grid_auto_columns": null,
            "margin": null,
            "display": null,
            "left": null
          }
        },
        "fb113d656761458a94465d7234a7003d": {
          "model_module": "@jupyter-widgets/controls",
          "model_name": "HTMLModel",
          "model_module_version": "1.5.0",
          "state": {
            "_view_name": "HTMLView",
            "style": "IPY_MODEL_501eca2372634d3e98a0f15673086ead",
            "_dom_classes": [],
            "description": "",
            "_model_name": "HTMLModel",
            "placeholder": "​",
            "_view_module": "@jupyter-widgets/controls",
            "_model_module_version": "1.5.0",
            "value": "",
            "_view_count": null,
            "_view_module_version": "1.5.0",
            "description_tooltip": null,
            "_model_module": "@jupyter-widgets/controls",
            "layout": "IPY_MODEL_d5d3407106de40bfb9e014ef65d36e42"
          }
        },
        "ef132628397b4e8fbf61bf1dd0c1c51f": {
          "model_module": "@jupyter-widgets/controls",
          "model_name": "FloatProgressModel",
          "model_module_version": "1.5.0",
          "state": {
            "_view_name": "ProgressView",
            "style": "IPY_MODEL_2860be0842d941afa940d67537c445c0",
            "_dom_classes": [],
            "description": "",
            "_model_name": "FloatProgressModel",
            "bar_style": "success",
            "max": 28881,
            "_view_module": "@jupyter-widgets/controls",
            "_model_module_version": "1.5.0",
            "value": 28881,
            "_view_count": null,
            "_view_module_version": "1.5.0",
            "orientation": "horizontal",
            "min": 0,
            "description_tooltip": null,
            "_model_module": "@jupyter-widgets/controls",
            "layout": "IPY_MODEL_98673f0778ab4f73b0157509afb5d51f"
          }
        },
        "0e0e004f8b9b4b3ba40f270c4c2890b6": {
          "model_module": "@jupyter-widgets/controls",
          "model_name": "HTMLModel",
          "model_module_version": "1.5.0",
          "state": {
            "_view_name": "HTMLView",
            "style": "IPY_MODEL_f371a855d12345b3b5acda0582cb6879",
            "_dom_classes": [],
            "description": "",
            "_model_name": "HTMLModel",
            "placeholder": "​",
            "_view_module": "@jupyter-widgets/controls",
            "_model_module_version": "1.5.0",
            "value": " 29696/? [00:00&lt;00:00, 524809.35it/s]",
            "_view_count": null,
            "_view_module_version": "1.5.0",
            "description_tooltip": null,
            "_model_module": "@jupyter-widgets/controls",
            "layout": "IPY_MODEL_2177a42e3f5647aa92bb0cbe270873c7"
          }
        },
        "501eca2372634d3e98a0f15673086ead": {
          "model_module": "@jupyter-widgets/controls",
          "model_name": "DescriptionStyleModel",
          "model_module_version": "1.5.0",
          "state": {
            "_view_name": "StyleView",
            "_model_name": "DescriptionStyleModel",
            "description_width": "",
            "_view_module": "@jupyter-widgets/base",
            "_model_module_version": "1.5.0",
            "_view_count": null,
            "_view_module_version": "1.2.0",
            "_model_module": "@jupyter-widgets/controls"
          }
        },
        "d5d3407106de40bfb9e014ef65d36e42": {
          "model_module": "@jupyter-widgets/base",
          "model_name": "LayoutModel",
          "model_module_version": "1.2.0",
          "state": {
            "_view_name": "LayoutView",
            "grid_template_rows": null,
            "right": null,
            "justify_content": null,
            "_view_module": "@jupyter-widgets/base",
            "overflow": null,
            "_model_module_version": "1.2.0",
            "_view_count": null,
            "flex_flow": null,
            "width": null,
            "min_width": null,
            "border": null,
            "align_items": null,
            "bottom": null,
            "_model_module": "@jupyter-widgets/base",
            "top": null,
            "grid_column": null,
            "overflow_y": null,
            "overflow_x": null,
            "grid_auto_flow": null,
            "grid_area": null,
            "grid_template_columns": null,
            "flex": null,
            "_model_name": "LayoutModel",
            "justify_items": null,
            "grid_row": null,
            "max_height": null,
            "align_content": null,
            "visibility": null,
            "align_self": null,
            "height": null,
            "min_height": null,
            "padding": null,
            "grid_auto_rows": null,
            "grid_gap": null,
            "max_width": null,
            "order": null,
            "_view_module_version": "1.2.0",
            "grid_template_areas": null,
            "object_position": null,
            "object_fit": null,
            "grid_auto_columns": null,
            "margin": null,
            "display": null,
            "left": null
          }
        },
        "2860be0842d941afa940d67537c445c0": {
          "model_module": "@jupyter-widgets/controls",
          "model_name": "ProgressStyleModel",
          "model_module_version": "1.5.0",
          "state": {
            "_view_name": "StyleView",
            "_model_name": "ProgressStyleModel",
            "description_width": "",
            "_view_module": "@jupyter-widgets/base",
            "_model_module_version": "1.5.0",
            "_view_count": null,
            "_view_module_version": "1.2.0",
            "bar_color": null,
            "_model_module": "@jupyter-widgets/controls"
          }
        },
        "98673f0778ab4f73b0157509afb5d51f": {
          "model_module": "@jupyter-widgets/base",
          "model_name": "LayoutModel",
          "model_module_version": "1.2.0",
          "state": {
            "_view_name": "LayoutView",
            "grid_template_rows": null,
            "right": null,
            "justify_content": null,
            "_view_module": "@jupyter-widgets/base",
            "overflow": null,
            "_model_module_version": "1.2.0",
            "_view_count": null,
            "flex_flow": null,
            "width": null,
            "min_width": null,
            "border": null,
            "align_items": null,
            "bottom": null,
            "_model_module": "@jupyter-widgets/base",
            "top": null,
            "grid_column": null,
            "overflow_y": null,
            "overflow_x": null,
            "grid_auto_flow": null,
            "grid_area": null,
            "grid_template_columns": null,
            "flex": null,
            "_model_name": "LayoutModel",
            "justify_items": null,
            "grid_row": null,
            "max_height": null,
            "align_content": null,
            "visibility": null,
            "align_self": null,
            "height": null,
            "min_height": null,
            "padding": null,
            "grid_auto_rows": null,
            "grid_gap": null,
            "max_width": null,
            "order": null,
            "_view_module_version": "1.2.0",
            "grid_template_areas": null,
            "object_position": null,
            "object_fit": null,
            "grid_auto_columns": null,
            "margin": null,
            "display": null,
            "left": null
          }
        },
        "f371a855d12345b3b5acda0582cb6879": {
          "model_module": "@jupyter-widgets/controls",
          "model_name": "DescriptionStyleModel",
          "model_module_version": "1.5.0",
          "state": {
            "_view_name": "StyleView",
            "_model_name": "DescriptionStyleModel",
            "description_width": "",
            "_view_module": "@jupyter-widgets/base",
            "_model_module_version": "1.5.0",
            "_view_count": null,
            "_view_module_version": "1.2.0",
            "_model_module": "@jupyter-widgets/controls"
          }
        },
        "2177a42e3f5647aa92bb0cbe270873c7": {
          "model_module": "@jupyter-widgets/base",
          "model_name": "LayoutModel",
          "model_module_version": "1.2.0",
          "state": {
            "_view_name": "LayoutView",
            "grid_template_rows": null,
            "right": null,
            "justify_content": null,
            "_view_module": "@jupyter-widgets/base",
            "overflow": null,
            "_model_module_version": "1.2.0",
            "_view_count": null,
            "flex_flow": null,
            "width": null,
            "min_width": null,
            "border": null,
            "align_items": null,
            "bottom": null,
            "_model_module": "@jupyter-widgets/base",
            "top": null,
            "grid_column": null,
            "overflow_y": null,
            "overflow_x": null,
            "grid_auto_flow": null,
            "grid_area": null,
            "grid_template_columns": null,
            "flex": null,
            "_model_name": "LayoutModel",
            "justify_items": null,
            "grid_row": null,
            "max_height": null,
            "align_content": null,
            "visibility": null,
            "align_self": null,
            "height": null,
            "min_height": null,
            "padding": null,
            "grid_auto_rows": null,
            "grid_gap": null,
            "max_width": null,
            "order": null,
            "_view_module_version": "1.2.0",
            "grid_template_areas": null,
            "object_position": null,
            "object_fit": null,
            "grid_auto_columns": null,
            "margin": null,
            "display": null,
            "left": null
          }
        },
        "7e4a2807734a4e4ca9b4438e5f02fe73": {
          "model_module": "@jupyter-widgets/controls",
          "model_name": "HBoxModel",
          "model_module_version": "1.5.0",
          "state": {
            "_view_name": "HBoxView",
            "_dom_classes": [],
            "_model_name": "HBoxModel",
            "_view_module": "@jupyter-widgets/controls",
            "_model_module_version": "1.5.0",
            "_view_count": null,
            "_view_module_version": "1.5.0",
            "box_style": "",
            "layout": "IPY_MODEL_d88c2293b36147599e509a1dfdb0146d",
            "_model_module": "@jupyter-widgets/controls",
            "children": [
              "IPY_MODEL_4cbdf3dd07474f57863fb21237d7632f",
              "IPY_MODEL_b517d61b4aa4435fb42925b6780acbe0",
              "IPY_MODEL_238774541d7645c1ba46b7b701699661"
            ]
          }
        },
        "d88c2293b36147599e509a1dfdb0146d": {
          "model_module": "@jupyter-widgets/base",
          "model_name": "LayoutModel",
          "model_module_version": "1.2.0",
          "state": {
            "_view_name": "LayoutView",
            "grid_template_rows": null,
            "right": null,
            "justify_content": null,
            "_view_module": "@jupyter-widgets/base",
            "overflow": null,
            "_model_module_version": "1.2.0",
            "_view_count": null,
            "flex_flow": null,
            "width": null,
            "min_width": null,
            "border": null,
            "align_items": null,
            "bottom": null,
            "_model_module": "@jupyter-widgets/base",
            "top": null,
            "grid_column": null,
            "overflow_y": null,
            "overflow_x": null,
            "grid_auto_flow": null,
            "grid_area": null,
            "grid_template_columns": null,
            "flex": null,
            "_model_name": "LayoutModel",
            "justify_items": null,
            "grid_row": null,
            "max_height": null,
            "align_content": null,
            "visibility": null,
            "align_self": null,
            "height": null,
            "min_height": null,
            "padding": null,
            "grid_auto_rows": null,
            "grid_gap": null,
            "max_width": null,
            "order": null,
            "_view_module_version": "1.2.0",
            "grid_template_areas": null,
            "object_position": null,
            "object_fit": null,
            "grid_auto_columns": null,
            "margin": null,
            "display": null,
            "left": null
          }
        },
        "4cbdf3dd07474f57863fb21237d7632f": {
          "model_module": "@jupyter-widgets/controls",
          "model_name": "HTMLModel",
          "model_module_version": "1.5.0",
          "state": {
            "_view_name": "HTMLView",
            "style": "IPY_MODEL_4e8e0468d19e4504a3da64b202849071",
            "_dom_classes": [],
            "description": "",
            "_model_name": "HTMLModel",
            "placeholder": "​",
            "_view_module": "@jupyter-widgets/controls",
            "_model_module_version": "1.5.0",
            "value": "",
            "_view_count": null,
            "_view_module_version": "1.5.0",
            "description_tooltip": null,
            "_model_module": "@jupyter-widgets/controls",
            "layout": "IPY_MODEL_8f4bd1586e14454089c9379e6e7baa28"
          }
        },
        "b517d61b4aa4435fb42925b6780acbe0": {
          "model_module": "@jupyter-widgets/controls",
          "model_name": "FloatProgressModel",
          "model_module_version": "1.5.0",
          "state": {
            "_view_name": "ProgressView",
            "style": "IPY_MODEL_e16b03fefcde4aef8d3ed2803044e02c",
            "_dom_classes": [],
            "description": "",
            "_model_name": "FloatProgressModel",
            "bar_style": "success",
            "max": 1648877,
            "_view_module": "@jupyter-widgets/controls",
            "_model_module_version": "1.5.0",
            "value": 1648877,
            "_view_count": null,
            "_view_module_version": "1.5.0",
            "orientation": "horizontal",
            "min": 0,
            "description_tooltip": null,
            "_model_module": "@jupyter-widgets/controls",
            "layout": "IPY_MODEL_bff9f77a7885493b92fb81533aa54985"
          }
        },
        "238774541d7645c1ba46b7b701699661": {
          "model_module": "@jupyter-widgets/controls",
          "model_name": "HTMLModel",
          "model_module_version": "1.5.0",
          "state": {
            "_view_name": "HTMLView",
            "style": "IPY_MODEL_5efe5b173fa14e928f9d045dcc35afff",
            "_dom_classes": [],
            "description": "",
            "_model_name": "HTMLModel",
            "placeholder": "​",
            "_view_module": "@jupyter-widgets/controls",
            "_model_module_version": "1.5.0",
            "value": " 1649664/? [00:00&lt;00:00, 18862173.69it/s]",
            "_view_count": null,
            "_view_module_version": "1.5.0",
            "description_tooltip": null,
            "_model_module": "@jupyter-widgets/controls",
            "layout": "IPY_MODEL_389cd7baa7e1418bb1551a46da109397"
          }
        },
        "4e8e0468d19e4504a3da64b202849071": {
          "model_module": "@jupyter-widgets/controls",
          "model_name": "DescriptionStyleModel",
          "model_module_version": "1.5.0",
          "state": {
            "_view_name": "StyleView",
            "_model_name": "DescriptionStyleModel",
            "description_width": "",
            "_view_module": "@jupyter-widgets/base",
            "_model_module_version": "1.5.0",
            "_view_count": null,
            "_view_module_version": "1.2.0",
            "_model_module": "@jupyter-widgets/controls"
          }
        },
        "8f4bd1586e14454089c9379e6e7baa28": {
          "model_module": "@jupyter-widgets/base",
          "model_name": "LayoutModel",
          "model_module_version": "1.2.0",
          "state": {
            "_view_name": "LayoutView",
            "grid_template_rows": null,
            "right": null,
            "justify_content": null,
            "_view_module": "@jupyter-widgets/base",
            "overflow": null,
            "_model_module_version": "1.2.0",
            "_view_count": null,
            "flex_flow": null,
            "width": null,
            "min_width": null,
            "border": null,
            "align_items": null,
            "bottom": null,
            "_model_module": "@jupyter-widgets/base",
            "top": null,
            "grid_column": null,
            "overflow_y": null,
            "overflow_x": null,
            "grid_auto_flow": null,
            "grid_area": null,
            "grid_template_columns": null,
            "flex": null,
            "_model_name": "LayoutModel",
            "justify_items": null,
            "grid_row": null,
            "max_height": null,
            "align_content": null,
            "visibility": null,
            "align_self": null,
            "height": null,
            "min_height": null,
            "padding": null,
            "grid_auto_rows": null,
            "grid_gap": null,
            "max_width": null,
            "order": null,
            "_view_module_version": "1.2.0",
            "grid_template_areas": null,
            "object_position": null,
            "object_fit": null,
            "grid_auto_columns": null,
            "margin": null,
            "display": null,
            "left": null
          }
        },
        "e16b03fefcde4aef8d3ed2803044e02c": {
          "model_module": "@jupyter-widgets/controls",
          "model_name": "ProgressStyleModel",
          "model_module_version": "1.5.0",
          "state": {
            "_view_name": "StyleView",
            "_model_name": "ProgressStyleModel",
            "description_width": "",
            "_view_module": "@jupyter-widgets/base",
            "_model_module_version": "1.5.0",
            "_view_count": null,
            "_view_module_version": "1.2.0",
            "bar_color": null,
            "_model_module": "@jupyter-widgets/controls"
          }
        },
        "bff9f77a7885493b92fb81533aa54985": {
          "model_module": "@jupyter-widgets/base",
          "model_name": "LayoutModel",
          "model_module_version": "1.2.0",
          "state": {
            "_view_name": "LayoutView",
            "grid_template_rows": null,
            "right": null,
            "justify_content": null,
            "_view_module": "@jupyter-widgets/base",
            "overflow": null,
            "_model_module_version": "1.2.0",
            "_view_count": null,
            "flex_flow": null,
            "width": null,
            "min_width": null,
            "border": null,
            "align_items": null,
            "bottom": null,
            "_model_module": "@jupyter-widgets/base",
            "top": null,
            "grid_column": null,
            "overflow_y": null,
            "overflow_x": null,
            "grid_auto_flow": null,
            "grid_area": null,
            "grid_template_columns": null,
            "flex": null,
            "_model_name": "LayoutModel",
            "justify_items": null,
            "grid_row": null,
            "max_height": null,
            "align_content": null,
            "visibility": null,
            "align_self": null,
            "height": null,
            "min_height": null,
            "padding": null,
            "grid_auto_rows": null,
            "grid_gap": null,
            "max_width": null,
            "order": null,
            "_view_module_version": "1.2.0",
            "grid_template_areas": null,
            "object_position": null,
            "object_fit": null,
            "grid_auto_columns": null,
            "margin": null,
            "display": null,
            "left": null
          }
        },
        "5efe5b173fa14e928f9d045dcc35afff": {
          "model_module": "@jupyter-widgets/controls",
          "model_name": "DescriptionStyleModel",
          "model_module_version": "1.5.0",
          "state": {
            "_view_name": "StyleView",
            "_model_name": "DescriptionStyleModel",
            "description_width": "",
            "_view_module": "@jupyter-widgets/base",
            "_model_module_version": "1.5.0",
            "_view_count": null,
            "_view_module_version": "1.2.0",
            "_model_module": "@jupyter-widgets/controls"
          }
        },
        "389cd7baa7e1418bb1551a46da109397": {
          "model_module": "@jupyter-widgets/base",
          "model_name": "LayoutModel",
          "model_module_version": "1.2.0",
          "state": {
            "_view_name": "LayoutView",
            "grid_template_rows": null,
            "right": null,
            "justify_content": null,
            "_view_module": "@jupyter-widgets/base",
            "overflow": null,
            "_model_module_version": "1.2.0",
            "_view_count": null,
            "flex_flow": null,
            "width": null,
            "min_width": null,
            "border": null,
            "align_items": null,
            "bottom": null,
            "_model_module": "@jupyter-widgets/base",
            "top": null,
            "grid_column": null,
            "overflow_y": null,
            "overflow_x": null,
            "grid_auto_flow": null,
            "grid_area": null,
            "grid_template_columns": null,
            "flex": null,
            "_model_name": "LayoutModel",
            "justify_items": null,
            "grid_row": null,
            "max_height": null,
            "align_content": null,
            "visibility": null,
            "align_self": null,
            "height": null,
            "min_height": null,
            "padding": null,
            "grid_auto_rows": null,
            "grid_gap": null,
            "max_width": null,
            "order": null,
            "_view_module_version": "1.2.0",
            "grid_template_areas": null,
            "object_position": null,
            "object_fit": null,
            "grid_auto_columns": null,
            "margin": null,
            "display": null,
            "left": null
          }
        },
        "fa9498a5c85c4ed98f327464634faf15": {
          "model_module": "@jupyter-widgets/controls",
          "model_name": "HBoxModel",
          "model_module_version": "1.5.0",
          "state": {
            "_view_name": "HBoxView",
            "_dom_classes": [],
            "_model_name": "HBoxModel",
            "_view_module": "@jupyter-widgets/controls",
            "_model_module_version": "1.5.0",
            "_view_count": null,
            "_view_module_version": "1.5.0",
            "box_style": "",
            "layout": "IPY_MODEL_febb3caf67b74594a811f1178bc8719c",
            "_model_module": "@jupyter-widgets/controls",
            "children": [
              "IPY_MODEL_b72d445fd21d468785373a625f2f7843",
              "IPY_MODEL_711eb202eff941b0b33d8d56a7e6e202",
              "IPY_MODEL_aeb974cbaba4498882a7536eb0c0df9e"
            ]
          }
        },
        "febb3caf67b74594a811f1178bc8719c": {
          "model_module": "@jupyter-widgets/base",
          "model_name": "LayoutModel",
          "model_module_version": "1.2.0",
          "state": {
            "_view_name": "LayoutView",
            "grid_template_rows": null,
            "right": null,
            "justify_content": null,
            "_view_module": "@jupyter-widgets/base",
            "overflow": null,
            "_model_module_version": "1.2.0",
            "_view_count": null,
            "flex_flow": null,
            "width": null,
            "min_width": null,
            "border": null,
            "align_items": null,
            "bottom": null,
            "_model_module": "@jupyter-widgets/base",
            "top": null,
            "grid_column": null,
            "overflow_y": null,
            "overflow_x": null,
            "grid_auto_flow": null,
            "grid_area": null,
            "grid_template_columns": null,
            "flex": null,
            "_model_name": "LayoutModel",
            "justify_items": null,
            "grid_row": null,
            "max_height": null,
            "align_content": null,
            "visibility": null,
            "align_self": null,
            "height": null,
            "min_height": null,
            "padding": null,
            "grid_auto_rows": null,
            "grid_gap": null,
            "max_width": null,
            "order": null,
            "_view_module_version": "1.2.0",
            "grid_template_areas": null,
            "object_position": null,
            "object_fit": null,
            "grid_auto_columns": null,
            "margin": null,
            "display": null,
            "left": null
          }
        },
        "b72d445fd21d468785373a625f2f7843": {
          "model_module": "@jupyter-widgets/controls",
          "model_name": "HTMLModel",
          "model_module_version": "1.5.0",
          "state": {
            "_view_name": "HTMLView",
            "style": "IPY_MODEL_8448ca72b17c4e1dac4966c2a13b7b3b",
            "_dom_classes": [],
            "description": "",
            "_model_name": "HTMLModel",
            "placeholder": "​",
            "_view_module": "@jupyter-widgets/controls",
            "_model_module_version": "1.5.0",
            "value": "",
            "_view_count": null,
            "_view_module_version": "1.5.0",
            "description_tooltip": null,
            "_model_module": "@jupyter-widgets/controls",
            "layout": "IPY_MODEL_d79258c565fb499e835a6670a543cc17"
          }
        },
        "711eb202eff941b0b33d8d56a7e6e202": {
          "model_module": "@jupyter-widgets/controls",
          "model_name": "FloatProgressModel",
          "model_module_version": "1.5.0",
          "state": {
            "_view_name": "ProgressView",
            "style": "IPY_MODEL_076c9223354e4822b1a702f43caadc5c",
            "_dom_classes": [],
            "description": "",
            "_model_name": "FloatProgressModel",
            "bar_style": "success",
            "max": 4542,
            "_view_module": "@jupyter-widgets/controls",
            "_model_module_version": "1.5.0",
            "value": 4542,
            "_view_count": null,
            "_view_module_version": "1.5.0",
            "orientation": "horizontal",
            "min": 0,
            "description_tooltip": null,
            "_model_module": "@jupyter-widgets/controls",
            "layout": "IPY_MODEL_c3df23efb3434f01bc60f0248c4c8a2f"
          }
        },
        "aeb974cbaba4498882a7536eb0c0df9e": {
          "model_module": "@jupyter-widgets/controls",
          "model_name": "HTMLModel",
          "model_module_version": "1.5.0",
          "state": {
            "_view_name": "HTMLView",
            "style": "IPY_MODEL_cb96d00e153b48e2aa4b3bd107272f9a",
            "_dom_classes": [],
            "description": "",
            "_model_name": "HTMLModel",
            "placeholder": "​",
            "_view_module": "@jupyter-widgets/controls",
            "_model_module_version": "1.5.0",
            "value": " 5120/? [00:00&lt;00:00, 115216.39it/s]",
            "_view_count": null,
            "_view_module_version": "1.5.0",
            "description_tooltip": null,
            "_model_module": "@jupyter-widgets/controls",
            "layout": "IPY_MODEL_5a4176e8e6bc4eee9b4bd32452c85b79"
          }
        },
        "8448ca72b17c4e1dac4966c2a13b7b3b": {
          "model_module": "@jupyter-widgets/controls",
          "model_name": "DescriptionStyleModel",
          "model_module_version": "1.5.0",
          "state": {
            "_view_name": "StyleView",
            "_model_name": "DescriptionStyleModel",
            "description_width": "",
            "_view_module": "@jupyter-widgets/base",
            "_model_module_version": "1.5.0",
            "_view_count": null,
            "_view_module_version": "1.2.0",
            "_model_module": "@jupyter-widgets/controls"
          }
        },
        "d79258c565fb499e835a6670a543cc17": {
          "model_module": "@jupyter-widgets/base",
          "model_name": "LayoutModel",
          "model_module_version": "1.2.0",
          "state": {
            "_view_name": "LayoutView",
            "grid_template_rows": null,
            "right": null,
            "justify_content": null,
            "_view_module": "@jupyter-widgets/base",
            "overflow": null,
            "_model_module_version": "1.2.0",
            "_view_count": null,
            "flex_flow": null,
            "width": null,
            "min_width": null,
            "border": null,
            "align_items": null,
            "bottom": null,
            "_model_module": "@jupyter-widgets/base",
            "top": null,
            "grid_column": null,
            "overflow_y": null,
            "overflow_x": null,
            "grid_auto_flow": null,
            "grid_area": null,
            "grid_template_columns": null,
            "flex": null,
            "_model_name": "LayoutModel",
            "justify_items": null,
            "grid_row": null,
            "max_height": null,
            "align_content": null,
            "visibility": null,
            "align_self": null,
            "height": null,
            "min_height": null,
            "padding": null,
            "grid_auto_rows": null,
            "grid_gap": null,
            "max_width": null,
            "order": null,
            "_view_module_version": "1.2.0",
            "grid_template_areas": null,
            "object_position": null,
            "object_fit": null,
            "grid_auto_columns": null,
            "margin": null,
            "display": null,
            "left": null
          }
        },
        "076c9223354e4822b1a702f43caadc5c": {
          "model_module": "@jupyter-widgets/controls",
          "model_name": "ProgressStyleModel",
          "model_module_version": "1.5.0",
          "state": {
            "_view_name": "StyleView",
            "_model_name": "ProgressStyleModel",
            "description_width": "",
            "_view_module": "@jupyter-widgets/base",
            "_model_module_version": "1.5.0",
            "_view_count": null,
            "_view_module_version": "1.2.0",
            "bar_color": null,
            "_model_module": "@jupyter-widgets/controls"
          }
        },
        "c3df23efb3434f01bc60f0248c4c8a2f": {
          "model_module": "@jupyter-widgets/base",
          "model_name": "LayoutModel",
          "model_module_version": "1.2.0",
          "state": {
            "_view_name": "LayoutView",
            "grid_template_rows": null,
            "right": null,
            "justify_content": null,
            "_view_module": "@jupyter-widgets/base",
            "overflow": null,
            "_model_module_version": "1.2.0",
            "_view_count": null,
            "flex_flow": null,
            "width": null,
            "min_width": null,
            "border": null,
            "align_items": null,
            "bottom": null,
            "_model_module": "@jupyter-widgets/base",
            "top": null,
            "grid_column": null,
            "overflow_y": null,
            "overflow_x": null,
            "grid_auto_flow": null,
            "grid_area": null,
            "grid_template_columns": null,
            "flex": null,
            "_model_name": "LayoutModel",
            "justify_items": null,
            "grid_row": null,
            "max_height": null,
            "align_content": null,
            "visibility": null,
            "align_self": null,
            "height": null,
            "min_height": null,
            "padding": null,
            "grid_auto_rows": null,
            "grid_gap": null,
            "max_width": null,
            "order": null,
            "_view_module_version": "1.2.0",
            "grid_template_areas": null,
            "object_position": null,
            "object_fit": null,
            "grid_auto_columns": null,
            "margin": null,
            "display": null,
            "left": null
          }
        },
        "cb96d00e153b48e2aa4b3bd107272f9a": {
          "model_module": "@jupyter-widgets/controls",
          "model_name": "DescriptionStyleModel",
          "model_module_version": "1.5.0",
          "state": {
            "_view_name": "StyleView",
            "_model_name": "DescriptionStyleModel",
            "description_width": "",
            "_view_module": "@jupyter-widgets/base",
            "_model_module_version": "1.5.0",
            "_view_count": null,
            "_view_module_version": "1.2.0",
            "_model_module": "@jupyter-widgets/controls"
          }
        },
        "5a4176e8e6bc4eee9b4bd32452c85b79": {
          "model_module": "@jupyter-widgets/base",
          "model_name": "LayoutModel",
          "model_module_version": "1.2.0",
          "state": {
            "_view_name": "LayoutView",
            "grid_template_rows": null,
            "right": null,
            "justify_content": null,
            "_view_module": "@jupyter-widgets/base",
            "overflow": null,
            "_model_module_version": "1.2.0",
            "_view_count": null,
            "flex_flow": null,
            "width": null,
            "min_width": null,
            "border": null,
            "align_items": null,
            "bottom": null,
            "_model_module": "@jupyter-widgets/base",
            "top": null,
            "grid_column": null,
            "overflow_y": null,
            "overflow_x": null,
            "grid_auto_flow": null,
            "grid_area": null,
            "grid_template_columns": null,
            "flex": null,
            "_model_name": "LayoutModel",
            "justify_items": null,
            "grid_row": null,
            "max_height": null,
            "align_content": null,
            "visibility": null,
            "align_self": null,
            "height": null,
            "min_height": null,
            "padding": null,
            "grid_auto_rows": null,
            "grid_gap": null,
            "max_width": null,
            "order": null,
            "_view_module_version": "1.2.0",
            "grid_template_areas": null,
            "object_position": null,
            "object_fit": null,
            "grid_auto_columns": null,
            "margin": null,
            "display": null,
            "left": null
          }
        }
      }
    },
    "accelerator": "GPU"
  },
  "cells": [
    {
      "cell_type": "markdown",
      "metadata": {
        "id": "oSN1IQOT4ika"
      },
      "source": [
        "#### Loading required libraries"
      ]
    },
    {
      "cell_type": "code",
      "metadata": {
        "id": "MSC9_NgCeHEX",
        "colab": {
          "base_uri": "https://localhost:8080/"
        },
        "outputId": "f054ad46-c632-45ff-fabc-baac2995f45f"
      },
      "source": [
        "import torch\n",
        "import torchvision # provide access to datasets, models, transforms, utils, etc\n",
        "import torchvision.transforms as transforms\n",
        "import numpy as np\n",
        "import matplotlib.pyplot as plt\n",
        "import torch.nn as nn\n",
        "import torch.nn.functional as F\n",
        "import torch.optim as optim\n",
        "from torch.utils.data import Dataset\n",
        "import random\n",
        "\n",
        "\n",
        "torch.set_grad_enabled(True)"
      ],
      "execution_count": 1,
      "outputs": [
        {
          "output_type": "execute_result",
          "data": {
            "text/plain": [
              "<torch.autograd.grad_mode.set_grad_enabled at 0x7f0a918abed0>"
            ]
          },
          "metadata": {},
          "execution_count": 1
        }
      ]
    },
    {
      "cell_type": "code",
      "metadata": {
        "id": "JIs7THAOxpTk",
        "colab": {
          "base_uri": "https://localhost:8080/",
          "height": 471,
          "referenced_widgets": [
            "ef6d6c86f25e4e2d9425181054c851bb",
            "86c77be7cd6e43d7b88b0709c855eaca",
            "ff127c3219f94f788cf5c250689d9c42",
            "754ada1b2f8942d2ab90fd24851435fe",
            "6c677922b19f4c7eae95f4f800dddcc3",
            "6b627b232c8743b4a7548463aa549884",
            "71bd64f323d24acb9b25fa03b84fe079",
            "b750b476a97042b1becd045a25901244",
            "25f35af04aa54b01b34fe66d9e341fb6",
            "388928b61f3341ac9d79a18298d231cc",
            "0c401057d23249ef89e7ea479e1457f3",
            "1e12ad49fa7e4f08b28652f39c508983",
            "9bab0875ec814c80b91da5448e48e2c8",
            "fb113d656761458a94465d7234a7003d",
            "ef132628397b4e8fbf61bf1dd0c1c51f",
            "0e0e004f8b9b4b3ba40f270c4c2890b6",
            "501eca2372634d3e98a0f15673086ead",
            "d5d3407106de40bfb9e014ef65d36e42",
            "2860be0842d941afa940d67537c445c0",
            "98673f0778ab4f73b0157509afb5d51f",
            "f371a855d12345b3b5acda0582cb6879",
            "2177a42e3f5647aa92bb0cbe270873c7",
            "7e4a2807734a4e4ca9b4438e5f02fe73",
            "d88c2293b36147599e509a1dfdb0146d",
            "4cbdf3dd07474f57863fb21237d7632f",
            "b517d61b4aa4435fb42925b6780acbe0",
            "238774541d7645c1ba46b7b701699661",
            "4e8e0468d19e4504a3da64b202849071",
            "8f4bd1586e14454089c9379e6e7baa28",
            "e16b03fefcde4aef8d3ed2803044e02c",
            "bff9f77a7885493b92fb81533aa54985",
            "5efe5b173fa14e928f9d045dcc35afff",
            "389cd7baa7e1418bb1551a46da109397",
            "fa9498a5c85c4ed98f327464634faf15",
            "febb3caf67b74594a811f1178bc8719c",
            "b72d445fd21d468785373a625f2f7843",
            "711eb202eff941b0b33d8d56a7e6e202",
            "aeb974cbaba4498882a7536eb0c0df9e",
            "8448ca72b17c4e1dac4966c2a13b7b3b",
            "d79258c565fb499e835a6670a543cc17",
            "076c9223354e4822b1a702f43caadc5c",
            "c3df23efb3434f01bc60f0248c4c8a2f",
            "cb96d00e153b48e2aa4b3bd107272f9a",
            "5a4176e8e6bc4eee9b4bd32452c85b79"
          ]
        },
        "outputId": "d3f7490c-8331-4da5-c643-ed6a8f0aa7a1"
      },
      "source": [
        "test_set = torchvision.datasets.MNIST(\n",
        "    root='./data',\n",
        "    train=False,\n",
        "    download=True,\n",
        "    transform = transforms.Compose([\n",
        "          transforms.ToTensor()\n",
        "    ])\n",
        ")"
      ],
      "execution_count": 2,
      "outputs": [
        {
          "output_type": "stream",
          "name": "stdout",
          "text": [
            "Downloading http://yann.lecun.com/exdb/mnist/train-images-idx3-ubyte.gz\n",
            "Downloading http://yann.lecun.com/exdb/mnist/train-images-idx3-ubyte.gz to ./data/MNIST/raw/train-images-idx3-ubyte.gz\n"
          ]
        },
        {
          "output_type": "display_data",
          "data": {
            "application/vnd.jupyter.widget-view+json": {
              "model_id": "ef6d6c86f25e4e2d9425181054c851bb",
              "version_minor": 0,
              "version_major": 2
            },
            "text/plain": [
              "  0%|          | 0/9912422 [00:00<?, ?it/s]"
            ]
          },
          "metadata": {}
        },
        {
          "output_type": "stream",
          "name": "stdout",
          "text": [
            "Extracting ./data/MNIST/raw/train-images-idx3-ubyte.gz to ./data/MNIST/raw\n",
            "\n",
            "Downloading http://yann.lecun.com/exdb/mnist/train-labels-idx1-ubyte.gz\n",
            "Downloading http://yann.lecun.com/exdb/mnist/train-labels-idx1-ubyte.gz to ./data/MNIST/raw/train-labels-idx1-ubyte.gz\n"
          ]
        },
        {
          "output_type": "display_data",
          "data": {
            "application/vnd.jupyter.widget-view+json": {
              "model_id": "1e12ad49fa7e4f08b28652f39c508983",
              "version_minor": 0,
              "version_major": 2
            },
            "text/plain": [
              "  0%|          | 0/28881 [00:00<?, ?it/s]"
            ]
          },
          "metadata": {}
        },
        {
          "output_type": "stream",
          "name": "stdout",
          "text": [
            "Extracting ./data/MNIST/raw/train-labels-idx1-ubyte.gz to ./data/MNIST/raw\n",
            "\n",
            "Downloading http://yann.lecun.com/exdb/mnist/t10k-images-idx3-ubyte.gz\n",
            "Downloading http://yann.lecun.com/exdb/mnist/t10k-images-idx3-ubyte.gz to ./data/MNIST/raw/t10k-images-idx3-ubyte.gz\n"
          ]
        },
        {
          "output_type": "display_data",
          "data": {
            "application/vnd.jupyter.widget-view+json": {
              "model_id": "7e4a2807734a4e4ca9b4438e5f02fe73",
              "version_minor": 0,
              "version_major": 2
            },
            "text/plain": [
              "  0%|          | 0/1648877 [00:00<?, ?it/s]"
            ]
          },
          "metadata": {}
        },
        {
          "output_type": "stream",
          "name": "stdout",
          "text": [
            "Extracting ./data/MNIST/raw/t10k-images-idx3-ubyte.gz to ./data/MNIST/raw\n",
            "\n",
            "Downloading http://yann.lecun.com/exdb/mnist/t10k-labels-idx1-ubyte.gz\n",
            "Downloading http://yann.lecun.com/exdb/mnist/t10k-labels-idx1-ubyte.gz to ./data/MNIST/raw/t10k-labels-idx1-ubyte.gz\n"
          ]
        },
        {
          "output_type": "display_data",
          "data": {
            "application/vnd.jupyter.widget-view+json": {
              "model_id": "fa9498a5c85c4ed98f327464634faf15",
              "version_minor": 0,
              "version_major": 2
            },
            "text/plain": [
              "  0%|          | 0/4542 [00:00<?, ?it/s]"
            ]
          },
          "metadata": {}
        },
        {
          "output_type": "stream",
          "name": "stdout",
          "text": [
            "Extracting ./data/MNIST/raw/t10k-labels-idx1-ubyte.gz to ./data/MNIST/raw\n",
            "\n"
          ]
        },
        {
          "output_type": "stream",
          "name": "stderr",
          "text": [
            "/usr/local/lib/python3.7/dist-packages/torchvision/datasets/mnist.py:498: UserWarning: The given NumPy array is not writeable, and PyTorch does not support non-writeable tensors. This means you can write to the underlying (supposedly non-writeable) NumPy array using the tensor. You may want to copy the array to protect its data or make it writeable before converting it to a tensor. This type of warning will be suppressed for the rest of this program. (Triggered internally at  /pytorch/torch/csrc/utils/tensor_numpy.cpp:180.)\n",
            "  return torch.from_numpy(parsed.astype(m[2], copy=False)).view(*s)\n"
          ]
        }
      ]
    },
    {
      "cell_type": "code",
      "metadata": {
        "id": "SMLwvyjXle5S"
      },
      "source": [
        "train_set = torchvision.datasets.MNIST(\n",
        "    root='./data',\n",
        "    train=True,\n",
        "    download=True,\n",
        "    transform = transforms.Compose([\n",
        "          transforms.ToTensor()\n",
        "    ])\n",
        ")"
      ],
      "execution_count": 3,
      "outputs": []
    },
    {
      "cell_type": "markdown",
      "metadata": {
        "id": "G9cJMVCF4uRM"
      },
      "source": [
        "#### Building Model"
      ]
    },
    {
      "cell_type": "code",
      "metadata": {
        "id": "NRX882Bqrwz3"
      },
      "source": [
        "class Network(nn.Module):\n",
        "  def __init__(self):\n",
        "    super().__init__()\n",
        "    self.conv1 = nn.Conv2d(in_channels=1, out_channels=16, kernel_size=5) \n",
        "    self.conv2 = nn.Conv2d(in_channels=16, out_channels=32, kernel_size=5)\n",
        "    self.fc1 = nn.Linear(in_features=32 * 4 * 4, out_features=120)\n",
        "    \n",
        "    self.out1 = nn.Linear(in_features=120, out_features=10)\n",
        "    self.out2 = nn.Linear(in_features=20, out_features=19)\n",
        "  \n",
        "  def forward(self, image, rand_num):\n",
        "    # input layer\n",
        "    x = image\n",
        "\n",
        "    # conv1 layer\n",
        "    x = self.conv1(x)\n",
        "    x = F.relu(x)\n",
        "    x = F.max_pool2d(x, kernel_size=2, stride=2) \n",
        "\n",
        "    # conv2 layer\n",
        "    x = self.conv2(x)\n",
        "    x = F.relu(x)\n",
        "    x = F.max_pool2d(x, kernel_size=2, stride=2) \n",
        "\n",
        "\n",
        "    # reshapre\n",
        "    x = x.reshape(-1, 32 * 4 * 4)\n",
        "\n",
        "    # fc1 layer\n",
        "    x = self.fc1(x)\n",
        "    x = F.relu(x)\n",
        "\n",
        "\n",
        "    # output layer\n",
        "    x = self.out1(x)\n",
        "    sum_out = torch.cat((x, rand_num), dim=1)\n",
        "    sum_out = self.out2(sum_out)\n",
        "    return x, sum_out"
      ],
      "execution_count": 4,
      "outputs": []
    },
    {
      "cell_type": "code",
      "metadata": {
        "colab": {
          "base_uri": "https://localhost:8080/"
        },
        "id": "iBJB0-omgK42",
        "outputId": "126235d2-8941-4235-951b-0d20ecf7ac88"
      },
      "source": [
        "def get_default_device():\n",
        "    \"\"\"\n",
        "    Pick GPU if available, else CPU.\n",
        "    \"\"\"\n",
        "    if torch.cuda.is_available():\n",
        "        return torch.device('cuda')\n",
        "    else:\n",
        "        return torch.device('cpu')\n",
        "\n",
        "device = get_default_device()\n",
        "device"
      ],
      "execution_count": 5,
      "outputs": [
        {
          "output_type": "execute_result",
          "data": {
            "text/plain": [
              "device(type='cuda')"
            ]
          },
          "metadata": {},
          "execution_count": 5
        }
      ]
    },
    {
      "cell_type": "code",
      "metadata": {
        "id": "hMfXaDpmVmNs"
      },
      "source": [
        "network = Network()"
      ],
      "execution_count": 6,
      "outputs": []
    },
    {
      "cell_type": "markdown",
      "metadata": {
        "id": "9Ta2HwmIgUfC"
      },
      "source": [
        "#### Move model to CPU"
      ]
    },
    {
      "cell_type": "code",
      "metadata": {
        "colab": {
          "base_uri": "https://localhost:8080/"
        },
        "id": "BDH4YGamgR8J",
        "outputId": "18595c0d-646b-4499-fafd-07c61724e17f"
      },
      "source": [
        "network.to(device)"
      ],
      "execution_count": 7,
      "outputs": [
        {
          "output_type": "execute_result",
          "data": {
            "text/plain": [
              "Network(\n",
              "  (conv1): Conv2d(1, 16, kernel_size=(5, 5), stride=(1, 1))\n",
              "  (conv2): Conv2d(16, 32, kernel_size=(5, 5), stride=(1, 1))\n",
              "  (fc1): Linear(in_features=512, out_features=120, bias=True)\n",
              "  (out1): Linear(in_features=120, out_features=10, bias=True)\n",
              "  (out2): Linear(in_features=20, out_features=19, bias=True)\n",
              ")"
            ]
          },
          "metadata": {},
          "execution_count": 7
        }
      ]
    },
    {
      "cell_type": "markdown",
      "metadata": {
        "id": "dJu2ZBnQOt5s"
      },
      "source": [
        "### Create Dataset"
      ]
    },
    {
      "cell_type": "code",
      "metadata": {
        "id": "DEVhHMY81VEc"
      },
      "source": [
        "class MNISTRandDataset(Dataset):\n",
        "    def __init__(self, mnist):\n",
        "        self.mnist = mnist\n",
        "\n",
        "    def __len__(self):\n",
        "        return len(self.mnist)\n",
        "\n",
        "    def __getitem__(self, idx):\n",
        "        image, label = self.mnist[idx]\n",
        "\n",
        "        rand_num = random.randint(0, 9)\n",
        "\n",
        "        rand_num_tensor = F.one_hot(torch.tensor(rand_num), num_classes=10)\n",
        "        sum_label = label + rand_num\n",
        "\n",
        "        return image, rand_num_tensor, label, sum_label"
      ],
      "execution_count": 9,
      "outputs": []
    },
    {
      "cell_type": "code",
      "metadata": {
        "id": "Dbo_L4_xTRMK"
      },
      "source": [
        "def get_num_correct(img_out, labels, sum_out, sum_label):\n",
        "  return img_out.argmax(dim=1).eq(labels).sum().item(), sum_out.argmax(dim=1).eq(sum_label).sum().item()"
      ],
      "execution_count": 10,
      "outputs": []
    },
    {
      "cell_type": "code",
      "metadata": {
        "id": "lq2wanMCO_nv"
      },
      "source": [
        "train_ds = MNISTRandDataset(train_set)\n",
        "test_ds = MNISTRandDataset(test_set)"
      ],
      "execution_count": 11,
      "outputs": []
    },
    {
      "cell_type": "code",
      "metadata": {
        "id": "MjFQ8dReYTQc",
        "colab": {
          "base_uri": "https://localhost:8080/"
        },
        "outputId": "77fb8cd0-c7d8-4435-83a2-c892176628d0"
      },
      "source": [
        "train_loader = torch.utils.data.DataLoader(train_ds, batch_size=100)\n",
        "optimizer = optim.Adam(network.parameters(), lr=0.01)\n",
        "\n",
        "archive = []\n",
        "\n",
        "for epoch in range(100):\n",
        "\n",
        "    result = {}\n",
        "    total_loss = 0\n",
        "    total_correct_image = 0\n",
        "    total_correct_sum = 0\n",
        "\n",
        "    for batch in train_loader: # Get Batch\n",
        "        images, rand_num_tensor, labels, sum_label = batch \n",
        "        images, rand_num_tensor, labels, sum_label = images.to(device), rand_num_tensor.to(device), labels.to(device), sum_label.to(device)\n",
        "\n",
        "        img_out, sum_out = network(images, rand_num_tensor) # Pass Batch\n",
        "\n",
        "        loss1 = F.cross_entropy(img_out, labels) # Calculate Loss\n",
        "        loss2 = F.cross_entropy(sum_out, sum_label) # Calculate Loss\n",
        "        loss = loss1 + loss2\n",
        "\n",
        "        optimizer.zero_grad()\n",
        "        loss.backward() # Calculate Gradients\n",
        "        optimizer.step() # Update Weights\n",
        "\n",
        "        total_loss += loss.item()\n",
        "        correct_image, correct_sum = get_num_correct(img_out, labels, sum_out, sum_label)\n",
        "        total_correct_image += correct_image\n",
        "        total_correct_sum += correct_sum\n",
        "\n",
        "    result['total_correct_image_accuracy'] = total_correct_image/len(train_set)\n",
        "    result['total_correct_sum_accuracy'] = total_correct_sum/len(train_set)\n",
        "    result['epoch'] = epoch\n",
        "    result['loss'] = total_loss\n",
        "    archive.append(result)   \n",
        "\n",
        "    print(\n",
        "        \"epoch\", epoch, \n",
        "        \"total_correct_image_accuracy:\", result['total_correct_image_accuracy'], \n",
        "        \"total_correct_sum_accuracy:\", result['total_correct_sum_accuracy'], \n",
        "        \"loss:\", total_loss\n",
        "    )"
      ],
      "execution_count": 12,
      "outputs": [
        {
          "output_type": "stream",
          "name": "stderr",
          "text": [
            "/usr/local/lib/python3.7/dist-packages/torch/nn/functional.py:718: UserWarning: Named tensors and all their associated APIs are an experimental feature and subject to change. Please do not use them for anything important until they are released as stable. (Triggered internally at  /pytorch/c10/core/TensorImpl.h:1156.)\n",
            "  return torch.max_pool2d(input, kernel_size, stride, padding, dilation, ceil_mode)\n"
          ]
        },
        {
          "output_type": "stream",
          "name": "stdout",
          "text": [
            "epoch 0 total_correct_image_accuracy: 0.96225 total_correct_sum_accuracy: 0.28573333333333334 loss: 1234.6857355833054\n",
            "epoch 1 total_correct_image_accuracy: 0.9858333333333333 total_correct_sum_accuracy: 0.40346666666666664 loss: 931.7045692205429\n",
            "epoch 2 total_correct_image_accuracy: 0.9885166666666667 total_correct_sum_accuracy: 0.4681666666666667 loss: 835.7943940162659\n",
            "epoch 3 total_correct_image_accuracy: 0.99085 total_correct_sum_accuracy: 0.5134333333333333 loss: 767.4515199661255\n",
            "epoch 4 total_correct_image_accuracy: 0.9917166666666667 total_correct_sum_accuracy: 0.5531 loss: 718.6924607753754\n",
            "epoch 5 total_correct_image_accuracy: 0.9927333333333334 total_correct_sum_accuracy: 0.5792666666666667 loss: 681.2113049030304\n",
            "epoch 6 total_correct_image_accuracy: 0.9935 total_correct_sum_accuracy: 0.6121333333333333 loss: 648.8068004846573\n",
            "epoch 7 total_correct_image_accuracy: 0.9943666666666666 total_correct_sum_accuracy: 0.6411 loss: 615.1315823197365\n",
            "epoch 8 total_correct_image_accuracy: 0.9948 total_correct_sum_accuracy: 0.6575166666666666 loss: 592.8726934194565\n",
            "epoch 9 total_correct_image_accuracy: 0.99485 total_correct_sum_accuracy: 0.6739 loss: 571.3060108423233\n",
            "epoch 10 total_correct_image_accuracy: 0.9957666666666667 total_correct_sum_accuracy: 0.7004166666666667 loss: 550.7172743678093\n",
            "epoch 11 total_correct_image_accuracy: 0.995 total_correct_sum_accuracy: 0.7152 loss: 534.256993830204\n",
            "epoch 12 total_correct_image_accuracy: 0.9959333333333333 total_correct_sum_accuracy: 0.7295166666666667 loss: 511.93111205101013\n",
            "epoch 13 total_correct_image_accuracy: 0.9957666666666667 total_correct_sum_accuracy: 0.7446166666666667 loss: 502.05360943078995\n",
            "epoch 14 total_correct_image_accuracy: 0.99575 total_correct_sum_accuracy: 0.7516333333333334 loss: 491.3065656423569\n",
            "epoch 15 total_correct_image_accuracy: 0.99635 total_correct_sum_accuracy: 0.7660333333333333 loss: 475.16314578056335\n",
            "epoch 16 total_correct_image_accuracy: 0.9963666666666666 total_correct_sum_accuracy: 0.7773666666666667 loss: 464.26986503601074\n",
            "epoch 17 total_correct_image_accuracy: 0.9959666666666667 total_correct_sum_accuracy: 0.7881333333333334 loss: 455.9765375852585\n",
            "epoch 18 total_correct_image_accuracy: 0.9964833333333334 total_correct_sum_accuracy: 0.7957333333333333 loss: 441.0470608472824\n",
            "epoch 19 total_correct_image_accuracy: 0.9962833333333333 total_correct_sum_accuracy: 0.7986166666666666 loss: 436.80075627565384\n",
            "epoch 20 total_correct_image_accuracy: 0.9968166666666667 total_correct_sum_accuracy: 0.8117833333333333 loss: 422.3485825061798\n",
            "epoch 21 total_correct_image_accuracy: 0.9967833333333334 total_correct_sum_accuracy: 0.8158666666666666 loss: 415.0244280099869\n",
            "epoch 22 total_correct_image_accuracy: 0.99685 total_correct_sum_accuracy: 0.82415 loss: 407.8099123239517\n",
            "epoch 23 total_correct_image_accuracy: 0.99705 total_correct_sum_accuracy: 0.8327833333333333 loss: 399.72115874290466\n",
            "epoch 24 total_correct_image_accuracy: 0.9973166666666666 total_correct_sum_accuracy: 0.8364166666666667 loss: 389.0117344260216\n",
            "epoch 25 total_correct_image_accuracy: 0.99735 total_correct_sum_accuracy: 0.8456 loss: 382.6300502717495\n",
            "epoch 26 total_correct_image_accuracy: 0.9969833333333333 total_correct_sum_accuracy: 0.8468666666666667 loss: 380.78499752283096\n",
            "epoch 27 total_correct_image_accuracy: 0.9971833333333333 total_correct_sum_accuracy: 0.8457166666666667 loss: 376.1564134657383\n",
            "epoch 28 total_correct_image_accuracy: 0.9970666666666667 total_correct_sum_accuracy: 0.8580666666666666 loss: 365.1131138205528\n",
            "epoch 29 total_correct_image_accuracy: 0.9971833333333333 total_correct_sum_accuracy: 0.8615333333333334 loss: 360.16392585635185\n",
            "epoch 30 total_correct_image_accuracy: 0.9969166666666667 total_correct_sum_accuracy: 0.85965 loss: 358.63775223493576\n",
            "epoch 31 total_correct_image_accuracy: 0.9969 total_correct_sum_accuracy: 0.8653166666666666 loss: 355.45163586735725\n",
            "epoch 32 total_correct_image_accuracy: 0.9976166666666667 total_correct_sum_accuracy: 0.8784833333333333 loss: 340.44587141275406\n",
            "epoch 33 total_correct_image_accuracy: 0.9967166666666667 total_correct_sum_accuracy: 0.8660666666666667 loss: 350.8376021683216\n",
            "epoch 34 total_correct_image_accuracy: 0.99735 total_correct_sum_accuracy: 0.8800333333333333 loss: 332.7848185300827\n",
            "epoch 35 total_correct_image_accuracy: 0.99765 total_correct_sum_accuracy: 0.8882 loss: 325.32434859871864\n",
            "epoch 36 total_correct_image_accuracy: 0.997 total_correct_sum_accuracy: 0.8853833333333333 loss: 328.8158140182495\n",
            "epoch 37 total_correct_image_accuracy: 0.9976666666666667 total_correct_sum_accuracy: 0.8910166666666667 loss: 320.87358698248863\n",
            "epoch 38 total_correct_image_accuracy: 0.9977833333333334 total_correct_sum_accuracy: 0.8924333333333333 loss: 314.223874270916\n",
            "epoch 39 total_correct_image_accuracy: 0.9977333333333334 total_correct_sum_accuracy: 0.8920166666666667 loss: 314.55352610349655\n",
            "epoch 40 total_correct_image_accuracy: 0.9976333333333334 total_correct_sum_accuracy: 0.8990833333333333 loss: 309.41570192575455\n",
            "epoch 41 total_correct_image_accuracy: 0.9970333333333333 total_correct_sum_accuracy: 0.89335 loss: 312.9024619460106\n",
            "epoch 42 total_correct_image_accuracy: 0.9973666666666666 total_correct_sum_accuracy: 0.9012666666666667 loss: 304.07018730044365\n",
            "epoch 43 total_correct_image_accuracy: 0.9973666666666666 total_correct_sum_accuracy: 0.89895 loss: 298.1149275004864\n",
            "epoch 44 total_correct_image_accuracy: 0.9976 total_correct_sum_accuracy: 0.9079333333333334 loss: 288.86312505602837\n",
            "epoch 45 total_correct_image_accuracy: 0.9975666666666667 total_correct_sum_accuracy: 0.9059833333333334 loss: 288.8086764514446\n",
            "epoch 46 total_correct_image_accuracy: 0.99745 total_correct_sum_accuracy: 0.90485 loss: 288.4144619703293\n",
            "epoch 47 total_correct_image_accuracy: 0.9972333333333333 total_correct_sum_accuracy: 0.9070833333333334 loss: 290.04418751597404\n",
            "epoch 48 total_correct_image_accuracy: 0.9972333333333333 total_correct_sum_accuracy: 0.9054666666666666 loss: 288.7359073162079\n",
            "epoch 49 total_correct_image_accuracy: 0.99805 total_correct_sum_accuracy: 0.9178 loss: 274.2003548145294\n",
            "epoch 50 total_correct_image_accuracy: 0.99775 total_correct_sum_accuracy: 0.9185833333333333 loss: 274.8245980143547\n",
            "epoch 51 total_correct_image_accuracy: 0.9964833333333334 total_correct_sum_accuracy: 0.9112666666666667 loss: 289.3617888391018\n",
            "epoch 52 total_correct_image_accuracy: 0.9972666666666666 total_correct_sum_accuracy: 0.9118333333333334 loss: 281.7212498188019\n",
            "epoch 53 total_correct_image_accuracy: 0.9975 total_correct_sum_accuracy: 0.9224833333333333 loss: 270.5621050596237\n",
            "epoch 54 total_correct_image_accuracy: 0.9974833333333334 total_correct_sum_accuracy: 0.9246 loss: 266.898424744606\n",
            "epoch 55 total_correct_image_accuracy: 0.9978166666666667 total_correct_sum_accuracy: 0.9228166666666666 loss: 262.16609555482864\n",
            "epoch 56 total_correct_image_accuracy: 0.9974666666666666 total_correct_sum_accuracy: 0.924 loss: 262.04916539788246\n",
            "epoch 57 total_correct_image_accuracy: 0.9975333333333334 total_correct_sum_accuracy: 0.9274833333333333 loss: 255.95915281772614\n",
            "epoch 58 total_correct_image_accuracy: 0.99615 total_correct_sum_accuracy: 0.9126333333333333 loss: 280.83505326509476\n",
            "epoch 59 total_correct_image_accuracy: 0.9972166666666666 total_correct_sum_accuracy: 0.9222333333333333 loss: 264.01712480187416\n",
            "epoch 60 total_correct_image_accuracy: 0.9975 total_correct_sum_accuracy: 0.9281666666666667 loss: 258.7547654211521\n",
            "epoch 61 total_correct_image_accuracy: 0.9978666666666667 total_correct_sum_accuracy: 0.9281833333333334 loss: 251.44605216383934\n",
            "epoch 62 total_correct_image_accuracy: 0.99745 total_correct_sum_accuracy: 0.9298 loss: 251.746565669775\n",
            "epoch 63 total_correct_image_accuracy: 0.9978333333333333 total_correct_sum_accuracy: 0.93275 loss: 247.1820068359375\n",
            "epoch 64 total_correct_image_accuracy: 0.9972833333333333 total_correct_sum_accuracy: 0.9276166666666666 loss: 252.66597437858582\n",
            "epoch 65 total_correct_image_accuracy: 0.9981333333333333 total_correct_sum_accuracy: 0.9379833333333333 loss: 234.06499218940735\n",
            "epoch 66 total_correct_image_accuracy: 0.9977333333333334 total_correct_sum_accuracy: 0.9350166666666667 loss: 238.22096344828606\n",
            "epoch 67 total_correct_image_accuracy: 0.9977 total_correct_sum_accuracy: 0.9344 loss: 238.67649763822556\n",
            "epoch 68 total_correct_image_accuracy: 0.9978 total_correct_sum_accuracy: 0.9371333333333334 loss: 233.7496675848961\n",
            "epoch 69 total_correct_image_accuracy: 0.9977333333333334 total_correct_sum_accuracy: 0.9353833333333333 loss: 236.64959853887558\n",
            "epoch 70 total_correct_image_accuracy: 0.9975666666666667 total_correct_sum_accuracy: 0.93325 loss: 240.3052676320076\n",
            "epoch 71 total_correct_image_accuracy: 0.9953666666666666 total_correct_sum_accuracy: 0.9169833333333334 loss: 273.82272589206696\n",
            "epoch 72 total_correct_image_accuracy: 0.9958833333333333 total_correct_sum_accuracy: 0.9226 loss: 264.70515805482864\n",
            "epoch 73 total_correct_image_accuracy: 0.9973833333333333 total_correct_sum_accuracy: 0.9380666666666667 loss: 231.3547890484333\n",
            "epoch 74 total_correct_image_accuracy: 0.99765 total_correct_sum_accuracy: 0.9373666666666667 loss: 233.91438087821007\n",
            "epoch 75 total_correct_image_accuracy: 0.9975 total_correct_sum_accuracy: 0.93865 loss: 228.67369678616524\n",
            "epoch 76 total_correct_image_accuracy: 0.9977333333333334 total_correct_sum_accuracy: 0.9391666666666667 loss: 222.77799463272095\n",
            "epoch 77 total_correct_image_accuracy: 0.9973666666666666 total_correct_sum_accuracy: 0.9330166666666667 loss: 238.53522518277168\n",
            "epoch 78 total_correct_image_accuracy: 0.9972666666666666 total_correct_sum_accuracy: 0.9415333333333333 loss: 226.3918830305338\n",
            "epoch 79 total_correct_image_accuracy: 0.9974666666666666 total_correct_sum_accuracy: 0.9398166666666666 loss: 223.0823609083891\n",
            "epoch 80 total_correct_image_accuracy: 0.9973666666666666 total_correct_sum_accuracy: 0.9356333333333333 loss: 231.0338721871376\n",
            "epoch 81 total_correct_image_accuracy: 0.9978166666666667 total_correct_sum_accuracy: 0.9416333333333333 loss: 219.91608898341656\n",
            "epoch 82 total_correct_image_accuracy: 0.9973833333333333 total_correct_sum_accuracy: 0.9384 loss: 227.5238191485405\n",
            "epoch 83 total_correct_image_accuracy: 0.9978666666666667 total_correct_sum_accuracy: 0.9475833333333333 loss: 210.9906020015478\n",
            "epoch 84 total_correct_image_accuracy: 0.9977333333333334 total_correct_sum_accuracy: 0.94325 loss: 218.10537186264992\n",
            "epoch 85 total_correct_image_accuracy: 0.99795 total_correct_sum_accuracy: 0.9466666666666667 loss: 209.9389047920704\n",
            "epoch 86 total_correct_image_accuracy: 0.9976333333333334 total_correct_sum_accuracy: 0.9450166666666666 loss: 215.25460562109947\n",
            "epoch 87 total_correct_image_accuracy: 0.9975333333333334 total_correct_sum_accuracy: 0.9441666666666667 loss: 212.82597985863686\n",
            "epoch 88 total_correct_image_accuracy: 0.9977 total_correct_sum_accuracy: 0.94535 loss: 210.96716292202473\n",
            "epoch 89 total_correct_image_accuracy: 0.9981 total_correct_sum_accuracy: 0.9511166666666667 loss: 200.2376442104578\n",
            "epoch 90 total_correct_image_accuracy: 0.9975833333333334 total_correct_sum_accuracy: 0.9448166666666666 loss: 212.59619414806366\n",
            "epoch 91 total_correct_image_accuracy: 0.99765 total_correct_sum_accuracy: 0.9498666666666666 loss: 205.20880742371082\n",
            "epoch 92 total_correct_image_accuracy: 0.99805 total_correct_sum_accuracy: 0.9540333333333333 loss: 199.31631299853325\n",
            "epoch 93 total_correct_image_accuracy: 0.9973833333333333 total_correct_sum_accuracy: 0.9449166666666666 loss: 212.36260336637497\n",
            "epoch 94 total_correct_image_accuracy: 0.9980333333333333 total_correct_sum_accuracy: 0.9519333333333333 loss: 196.63375043869019\n",
            "epoch 95 total_correct_image_accuracy: 0.9978666666666667 total_correct_sum_accuracy: 0.9509333333333333 loss: 198.8512997329235\n",
            "epoch 96 total_correct_image_accuracy: 0.9971333333333333 total_correct_sum_accuracy: 0.9414666666666667 loss: 216.01002576947212\n",
            "epoch 97 total_correct_image_accuracy: 0.99695 total_correct_sum_accuracy: 0.9477666666666666 loss: 206.68009078502655\n",
            "epoch 98 total_correct_image_accuracy: 0.9980166666666667 total_correct_sum_accuracy: 0.95285 loss: 193.6354839205742\n",
            "epoch 99 total_correct_image_accuracy: 0.9977666666666667 total_correct_sum_accuracy: 0.9526166666666667 loss: 194.99088217318058\n"
          ]
        }
      ]
    },
    {
      "cell_type": "code",
      "metadata": {
        "colab": {
          "base_uri": "https://localhost:8080/"
        },
        "id": "M-hozfB5wnc_",
        "outputId": "82eede79-af6d-4f90-c4e3-833abb10ea0c"
      },
      "source": [
        "test_loader = torch.utils.data.DataLoader(test_ds, batch_size=100)\n",
        "\n",
        "total_correct_image = 0\n",
        "total_correct_sum = 0\n",
        "\n",
        "\n",
        "for batch in test_loader:  \n",
        "    images, rand_num_tensor, labels, sum_label = batch \n",
        "\n",
        "    images, rand_num_tensor, labels, sum_label = images.to(device), rand_num_tensor.to(device), labels.to(device), sum_label.to(device)\n",
        "\n",
        "    img_out, sum_out = network(images, rand_num_tensor) \n",
        "\n",
        "    correct_image, correct_sum = get_num_correct(img_out, labels, sum_out, sum_label)\n",
        "    total_correct_image += correct_image\n",
        "    total_correct_sum += correct_sum\n",
        "\n",
        "print(\n",
        "    \"total_correct_image:\", total_correct_image,\n",
        "    \"total_correct_sum:\", total_correct_sum\n",
        ")"
      ],
      "execution_count": 13,
      "outputs": [
        {
          "output_type": "stream",
          "name": "stdout",
          "text": [
            "total_correct_image: 9849 total_correct_sum: 9219\n"
          ]
        }
      ]
    },
    {
      "cell_type": "code",
      "metadata": {
        "colab": {
          "base_uri": "https://localhost:8080/"
        },
        "id": "MxhKPp7Gyao5",
        "outputId": "b7e75609-fc3b-4895-f060-b1bc0489a613"
      },
      "source": [
        "print(f'Image recognition accuracy: {total_correct_image/len(test_set)} , Sum Prediction accuracy: {total_correct_sum/len(test_set)}')"
      ],
      "execution_count": 17,
      "outputs": [
        {
          "output_type": "stream",
          "name": "stdout",
          "text": [
            "Image recognition accuracy: 0.9849 , Sum Prediction accuracy: 0.9219\n"
          ]
        }
      ]
    },
    {
      "cell_type": "markdown",
      "metadata": {
        "id": "yXGO5F5vouhx"
      },
      "source": [
        "### Plot Accuracy Vs Epoch Graph"
      ]
    },
    {
      "cell_type": "code",
      "metadata": {
        "id": "tzFb6PT2Ul85"
      },
      "source": [
        "def plot_accuracies(history):\n",
        "    total_correct_image_accuracy = [x['total_correct_image_accuracy'] for x in history]\n",
        "    total_correct_sum_accuracy = [x['total_correct_sum_accuracy'] for x in history]\n",
        "    plt.figure(figsize=(12, 8))\n",
        "    plt.plot(total_correct_image_accuracy, '-x')\n",
        "    plt.plot(total_correct_sum_accuracy, '-x')\n",
        "    plt.xlabel('epoch')\n",
        "    plt.ylabel('accuracy')\n",
        "    plt.legend(['digit_recognition_accuracy', 'sum_prediction_accuracy'])\n",
        "    plt.title('Accuracy vs. No. of epochs')\n",
        "    plt.savefig('Accuracy.png');"
      ],
      "execution_count": 15,
      "outputs": []
    },
    {
      "cell_type": "code",
      "metadata": {
        "colab": {
          "base_uri": "https://localhost:8080/",
          "height": 513
        },
        "id": "H9G_7nBqqNZI",
        "outputId": "c513e509-cfb4-4e35-b155-64b577fe6897"
      },
      "source": [
        "plot_accuracies(archive)"
      ],
      "execution_count": 16,
      "outputs": [
        {
          "output_type": "display_data",
          "data": {
            "image/png": "[encoded data removed]",
            "text/plain": [
              "<Figure size 864x576 with 1 Axes>"
            ]
          },
          "metadata": {
            "needs_background": "light"
          }
        }
      ]
    },
    {
      "cell_type": "code",
      "metadata": {
        "id": "nOUy5uXFq275"
      },
      "source": [
        ""
      ],
      "execution_count": 16,
      "outputs": []
    }
  ]
}